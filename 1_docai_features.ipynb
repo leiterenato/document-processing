{
 "cells": [
  {
   "cell_type": "markdown",
   "metadata": {},
   "source": [
    "## Import all the necessary modules and global variables"
   ]
  },
  {
   "cell_type": "code",
   "execution_count": 46,
   "metadata": {},
   "outputs": [],
   "source": [
    "from docai_module.config import *"
   ]
  },
  {
   "cell_type": "markdown",
   "metadata": {},
   "source": [
    "# [Document AI](https://console.cloud.google.com/ai/document-ai)"
   ]
  },
  {
   "cell_type": "markdown",
   "metadata": {},
   "source": [
    "Document AI uses advanced machine learning techniques to extract data and structure from files.  \n",
    "In the past, capturing this unstructured has been an expensive, time-consuming, and error-prone process requiring manual data entry. Today, AI and machine learning have made great advances towards automating this process, enabling businesses to derive insights from, and take advantage of, this data that had been previously untapped.\n",
    "\n",
    "The goal of this lab is to explore how to use this powerful tool."
   ]
  },
  {
   "cell_type": "markdown",
   "metadata": {},
   "source": [
    "## Lab details"
   ]
  },
  {
   "cell_type": "markdown",
   "metadata": {},
   "source": [
    " - Process a PDF Document using Document AI Form Parser (online and batch methods)\n",
    " - Explore the results for OCR, Table Recognition and Key/Value pairs"
   ]
  },
  {
   "cell_type": "markdown",
   "metadata": {},
   "source": [
    "## Create a Processor\n",
    "Before start processing your documents, you need to create a specific processor with the type of processing we need to perform.    \n",
    "For this example, we will create a Form Parser processor which can parse Tables, do OCR, extract key / value pairs, etc.\n",
    "\n",
    " - Cloud Console UI > Navigate to Document AI\n",
    "\n",
    "<img src=\"./images/1_1_menu.jpg\"\n",
    "     alt=\"Menu\"\n",
    "     style=\"width:15%\"\n",
    "     />\n",
    "\n",
    " - Click on Create Processor\n",
    " \n",
    "<img src=\"./images/1_2_processor.png\"\n",
    "     alt=\"Processor\"\n",
    "     style=\"width:30%\"\n",
    "     />\n",
    "\n",
    " - There are several options for processors. Select the Form Parser.\n",
    " \n",
    "<img src=\"./images/1_3_form_parser.png\"\n",
    "     alt=\"Form Parser\"\n",
    "     style=\"width:40%\"\n",
    "     />\n",
    "\n",
    " - Give the name \"document_processing\", choose the US location and click CREATE\n",
    "\n",
    "<img src=\"./images/1_4_name_processor.png\"\n",
    "     alt=\"Name Processor\"\n",
    "     style=\"width:30%\"\n",
    "     />\n",
    "\n",
    " - On the left menu, click on Processors and click on the processor you just created\n",
    "\n",
    "<img src=\"./images/1_5_find_processor.png\"\n",
    "     alt=\"Created Processor\"\n",
    "     style=\"width:30%\"\n",
    "     />\n",
    "\n",
    " - Take note on the ID of the processor and fill this information in the next cell of the notebook.\n",
    "  - Your ID will be different than the shown in this picture.\n",
    "\n",
    "<img src=\"./images/1_6_processor_id.png\"\n",
    "     alt=\"Processor ID\"\n",
    "     style=\"width:30%\"\n",
    "     />"
   ]
  },
  {
   "cell_type": "code",
   "execution_count": 12,
   "metadata": {},
   "outputs": [],
   "source": [
    "# Fill this variable with the ID of the processor created in the previews steps\n",
    "PROCESSOR_ID = 'ff4bad3352769404'"
   ]
  },
  {
   "cell_type": "markdown",
   "metadata": {},
   "source": [
    "### Quick Test using the UI\n",
    "\n",
    "After creating your processor you can test it in the Processors > Details page.\n",
    "\n",
    " - Save a local copy of the sample form document [gs://cloud-samples-data/documentai/loan_form.pdf](https://storage.googleapis.com/cloud-samples-data/documentai/loan_form.pdf)  \n",
    " This document is stored in a publicly accessible Cloud Storage bucket.\n",
    "\n",
    " - In the \"Test your processor\" section of the processor detail page, upload the local version of the sample form.  \n",
    " This takes you to the document analysis page where you can view the document annotations returned. Click on UPLOAD DOCUMENT and select the document you just downloaded.\n",
    "\n",
    "<img src=\"./images/1_7_test_processor.png\"\n",
    "     alt=\"Test Processor\"\n",
    "     style=\"width:30%\"\n",
    "     />\n",
    "     \n",
    " - The result of this processing looks like this\n",
    " \n",
    "<img src=\"./images/1_8_result_form.png\"\n",
    "     alt=\"Test Processor\"\n",
    "     style=\"width:50%\"\n",
    "     />\n",
    "     \n",
    "Document AI Form Parser is capable of detecting Tables, Checkboxes, OCR, Key/Value pairs, etc. It is a very powerful tool to process documents.  \n",
    "Let's explore how can we use these features programatically using client libraries."
   ]
  },
  {
   "cell_type": "markdown",
   "metadata": {},
   "source": [
    "## Calling Document AI\n",
    "\n",
    "Currently Document AI can be used for PDF, TIFF and GIF files.  \n",
    "There are two ways you can call the API: online/synchronous and offline/asynchronous/batch.\n",
    "\n",
    " - Online processing support smaller files and return the results immediately to the caller.\n",
    " - Offline processing returns an ID and finished the processing in the background.\n",
    "\n",
    "Using one of these methods to call the API depends on how you are designing your system.  \n",
    "Next, we will discuss how to use both methods and how to interpret the result from the API calling."
   ]
  },
  {
   "cell_type": "markdown",
   "metadata": {},
   "source": [
    "## Small file online processing\n",
    "\n",
    "Synchronous (\"online\") requests target a document with a small number of pages and size.  \n",
    "Synchronous requests immediately return a response inline.  \n",
    "The following function calls the Document AI API directly to process a PDF and return a JSON with the results.  \n",
    "\n",
    "<img src=\"./images/1_arch_online.png\"\n",
    "     alt=\"Online Processing\"\n",
    "     style=\"width:30%\"\n",
    "     />"
   ]
  },
  {
   "cell_type": "markdown",
   "metadata": {},
   "source": [
    "Let's process this document with Document AI Form Parser.  \n",
    "According to the documentation, currently Document AI with online processing supports both an URI in the format of gs://..., or a local file.  \n",
    "\n",
    "https://cloud.google.com/document-ai/docs/reference/rpc/google.cloud.documentai.v1beta3#document\n",
    "\n",
    "In the following example, let's define a function to process a local file."
   ]
  },
  {
   "cell_type": "code",
   "execution_count": 13,
   "metadata": {},
   "outputs": [],
   "source": [
    "def process_document_online(file_path: str, mime_type: str):\n",
    "    # The full resource name of the processor\n",
    "    name = f\"projects/{PROJECT_ID}/locations/{DOCAI_LOCATION}/processors/{PROCESSOR_ID}\"\n",
    "\n",
    "    with open(file_path, \"rb\") as image:\n",
    "        image_content = image.read()\n",
    "\n",
    "    # Read the file into memory and configure the process request\n",
    "    document = {\"content\": image_content, \"mime_type\": mime_type}\n",
    "    request = {\"name\": name, \"document\": document}\n",
    "\n",
    "    # Recognizes text entities in the PDF document\n",
    "    return DOCAI_CLIENT.process_document(request=request)"
   ]
  },
  {
   "cell_type": "code",
   "execution_count": 14,
   "metadata": {},
   "outputs": [],
   "source": [
    "# Define the file path\n",
    "file_path = './files/loan_form.pdf'\n",
    "response = process_document_online(file_path, MIME_TYPE)"
   ]
  },
  {
   "cell_type": "code",
   "execution_count": 15,
   "metadata": {},
   "outputs": [
    {
     "data": {
      "text/plain": [
       "'Loan Agreement Form\\nAgreement Number:\\n0123456789\\nAgreement date:\\n01/01/2020\\nThis loan agreement is commenced between the parties:\\nMortgage company contact details:\\nName:\\nMortgage company A\\nAddress:\\n100 Franklin Street, Mountain View, CA, 94035\\nPhone number: 1-800-843-8623\\n(hereinafter referred to as the lender)\\nIndividual details:\\nName:\\nArjun Patel\\nMarital status:\\nSingle\\nMarried ☐\\nOther\\nAddress:\\n500 Castro Street, Mountain View, CA 94035\\nPhone number: 650-987-0934\\n(hereinafter referred to as the borrower)\\n[Fill in all details as per instructions]\\n6.0\\n%.\\nThe lender is ready to sanction $ 2000 as the loan amount at\\n[Total loan amount along with the agreed percentage rate].\\nThis loan agreement is valid from 01/01/2020 and is ending on 12/31/2020.\\nTerms & agreements:\\n38.67\\nper month for\\n5\\nyears.\\nThe borrower will pay an installment of $\\n[Amount & tenure of loan]\\nAny late installment will be accepted with $\\n40\\nas a fine.\\n'"
      ]
     },
     "execution_count": 15,
     "metadata": {},
     "output_type": "execute_result"
    }
   ],
   "source": [
    "# Document Text\n",
    "response.document.text"
   ]
  },
  {
   "cell_type": "code",
   "execution_count": 16,
   "metadata": {},
   "outputs": [
    {
     "data": {
      "text/plain": [
       "field_name {\n",
       "  text_anchor {\n",
       "    text_segments {\n",
       "      start_index: 20\n",
       "      end_index: 38\n",
       "    }\n",
       "  }\n",
       "  confidence: 0.9999979138374329\n",
       "  bounding_poly {\n",
       "    normalized_vertices {\n",
       "      x: 0.12571103870868683\n",
       "      y: 0.11560439318418503\n",
       "    }\n",
       "    normalized_vertices {\n",
       "      x: 0.2946530282497406\n",
       "      y: 0.11560439318418503\n",
       "    }\n",
       "    normalized_vertices {\n",
       "      x: 0.2946530282497406\n",
       "      y: 0.13230769336223602\n",
       "    }\n",
       "    normalized_vertices {\n",
       "      x: 0.12571103870868683\n",
       "      y: 0.13230769336223602\n",
       "    }\n",
       "  }\n",
       "  orientation: PAGE_UP\n",
       "}\n",
       "field_value {\n",
       "  text_anchor {\n",
       "    text_segments {\n",
       "      start_index: 38\n",
       "      end_index: 49\n",
       "    }\n",
       "  }\n",
       "  confidence: 0.9999979138374329\n",
       "  bounding_poly {\n",
       "    normalized_vertices {\n",
       "      x: 0.3122866749763489\n",
       "      y: 0.117802195250988\n",
       "    }\n",
       "    normalized_vertices {\n",
       "      x: 0.4084186553955078\n",
       "      y: 0.117802195250988\n",
       "    }\n",
       "    normalized_vertices {\n",
       "      x: 0.4084186553955078\n",
       "      y: 0.13010989129543304\n",
       "    }\n",
       "    normalized_vertices {\n",
       "      x: 0.3122866749763489\n",
       "      y: 0.13010989129543304\n",
       "    }\n",
       "  }\n",
       "  orientation: PAGE_UP\n",
       "}"
      ]
     },
     "execution_count": 16,
     "metadata": {},
     "output_type": "execute_result"
    }
   ],
   "source": [
    "# Document Name / Values\n",
    "response.document.pages[0].form_fields[0]"
   ]
  },
  {
   "cell_type": "code",
   "execution_count": 17,
   "metadata": {},
   "outputs": [],
   "source": [
    "def print_doc_result(document: documentai.types.document.Document):\n",
    "    for page in document.pages:\n",
    "        for form_field in page.form_fields:\n",
    "            field_name = _get_text(form_field.field_name, document)\n",
    "            field_value = _get_text(form_field.field_value, document)\n",
    "            print(\"Extracted key value pair:\")\n",
    "            print(f\"\\t{field_name} {field_value}\")\n",
    "        for paragraph in document.pages:\n",
    "            paragraph_text = _get_text(paragraph.layout, document)\n",
    "            print(f\"Paragraph text:\\n{paragraph_text}\")\n",
    "\n",
    "# Extract shards from the text field\n",
    "def _get_text(doc_element: dict, document: dict):\n",
    "    \"\"\"\n",
    "    Document AI identifies form fields by their offsets\n",
    "    in document text. This function converts offsets\n",
    "    to text snippets.\n",
    "    \"\"\"\n",
    "    response = \"\"\n",
    "    # If a text segment spans several lines, it will\n",
    "    # be stored in different text segments.\n",
    "    for segment in doc_element.text_anchor.text_segments:\n",
    "        start_index = (\n",
    "            int(segment.start_index)\n",
    "            if segment in doc_element.text_anchor.text_segments\n",
    "            else 0\n",
    "        )\n",
    "        end_index = int(segment.end_index)\n",
    "        response += document.text[start_index:end_index]\n",
    "    return response"
   ]
  },
  {
   "cell_type": "code",
   "execution_count": 19,
   "metadata": {},
   "outputs": [
    {
     "name": "stdout",
     "output_type": "stream",
     "text": [
      "Extracted key value pair:\n",
      "\tAgreement Number:\n",
      " 0123456789\n",
      "\n",
      "Extracted key value pair:\n",
      "\tAddress:\n",
      " 100 Franklin Street, Mountain View, CA, 94035\n",
      "\n",
      "Extracted key value pair:\n",
      "\tAgreement date:\n",
      " 01/01/2020\n",
      "\n",
      "Extracted key value pair:\n",
      "\tPhone number:  1-800-843-8623\n",
      "\n",
      "Extracted key value pair:\n",
      "\tAddress:\n",
      " 500 Castro Street, Mountain View, CA 94035\n",
      "\n",
      "Extracted key value pair:\n",
      "\tOther\n",
      " \n",
      "Extracted key value pair:\n",
      "\tMarried  ☐\n",
      "\n",
      "Extracted key value pair:\n",
      "\tName:\n",
      " Arjun Patel\n",
      "\n",
      "Extracted key value pair:\n",
      "\tPhone number:  650-987-0934\n",
      "\n",
      "Extracted key value pair:\n",
      "\tper month for\n",
      " 5\n",
      "years.\n",
      "\n",
      "Extracted key value pair:\n",
      "\tSingle\n",
      " \n",
      "Extracted key value pair:\n",
      "\tThe borrower will pay an installment of $\n",
      " 38.67\n",
      "\n",
      "Extracted key value pair:\n",
      "\tThe lender is ready to sanction $  2000 \n",
      "Extracted key value pair:\n",
      "\tas the loan amount at\n",
      " 6.0\n",
      "%\n",
      "Extracted key value pair:\n",
      "\tName:\n",
      " Mortgage company A\n",
      "\n",
      "Extracted key value pair:\n",
      "\tAny late installment will be accepted with $\n",
      " 40\n",
      "as a \n",
      "Extracted key value pair:\n",
      "\tThis loan agreement is valid from  01/01/2020 \n",
      "Extracted key value pair:\n",
      "\tand is ending on  12/31/2020\n",
      "Paragraph text:\n",
      "Loan Agreement Form\n",
      "Agreement Number:\n",
      "0123456789\n",
      "Agreement date:\n",
      "01/01/2020\n",
      "This loan agreement is commenced between the parties:\n",
      "Mortgage company contact details:\n",
      "Name:\n",
      "Mortgage company A\n",
      "Address:\n",
      "100 Franklin Street, Mountain View, CA, 94035\n",
      "Phone number: 1-800-843-8623\n",
      "(hereinafter referred to as the lender)\n",
      "Individual details:\n",
      "Name:\n",
      "Arjun Patel\n",
      "Marital status:\n",
      "Single\n",
      "Married ☐\n",
      "Other\n",
      "Address:\n",
      "500 Castro Street, Mountain View, CA 94035\n",
      "Phone number: 650-987-0934\n",
      "(hereinafter referred to as the borrower)\n",
      "[Fill in all details as per instructions]\n",
      "6.0\n",
      "%.\n",
      "The lender is ready to sanction $ 2000 as the loan amount at\n",
      "[Total loan amount along with the agreed percentage rate].\n",
      "This loan agreement is valid from 01/01/2020 and is ending on 12/31/2020.\n",
      "Terms & agreements:\n",
      "38.67\n",
      "per month for\n",
      "5\n",
      "years.\n",
      "The borrower will pay an installment of $\n",
      "[Amount & tenure of loan]\n",
      "Any late installment will be accepted with $\n",
      "40\n",
      "as a fine.\n",
      "\n"
     ]
    }
   ],
   "source": [
    "# Print Name/Values and Paragraphs\n",
    "# There are other elements like Tables, Lines, Blocks, etc.\n",
    "print_doc_result(response.document)"
   ]
  },
  {
   "cell_type": "markdown",
   "metadata": {},
   "source": [
    "## Large file offline processing\n",
    "\n",
    "Asynchronous (\"offline\") requests target longer documents.  \n",
    "These types of requests start a long-running operations. When this operation finishes it stores output as a JSON file in a specified Cloud Storage bucket.\n",
    "\n",
    "Document AI asynchronous processing accepts PDF, TIFF, GIF files up to 2000 pages. Attempting to process larger files returns an error.\n",
    "\n",
    "<img src=\"./images/1_arch_offline.png\"\n",
    "     alt=\"Offline Processing\"\n",
    "     style=\"width:30%\"\n",
    "     />\n",
    "     \n",
    "To process documents in batch using the offline method, we need to create a bucket in Cloud Storage to retrive the PDF and write the API call result.  \n",
    "Let's use the TEST_BUCKET to upload a document and test the async call."
   ]
  },
  {
   "cell_type": "code",
   "execution_count": 20,
   "metadata": {},
   "outputs": [
    {
     "name": "stdout",
     "output_type": "stream",
     "text": [
      "TEST_BUCKET: gs://cool-ml-demos-test/\n"
     ]
    }
   ],
   "source": [
    "print(f'TEST_BUCKET: gs://{TEST_BUCKET}/')"
   ]
  },
  {
   "cell_type": "markdown",
   "metadata": {},
   "source": [
    "Let's copy the PDF to execute in batch (offline)."
   ]
  },
  {
   "cell_type": "code",
   "execution_count": 26,
   "metadata": {},
   "outputs": [],
   "source": [
    "# Function to upload the PDF to a bucket\n",
    "def upload_blob(bucket_name, source_file_name, destination_blob_name):\n",
    "    \"\"\"Uploads a file to the bucket.\"\"\"\n",
    "    bucket = STORAGE_CLIENT.bucket(bucket_name)\n",
    "    blob = bucket.blob(destination_blob_name)\n",
    "\n",
    "    blob.upload_from_filename(source_file_name)\n",
    "\n",
    "    print(\n",
    "        \"File {} uploaded to {}.\".format(\n",
    "            source_file_name, destination_blob_name\n",
    "        )\n",
    "    )"
   ]
  },
  {
   "cell_type": "code",
   "execution_count": 27,
   "metadata": {},
   "outputs": [
    {
     "name": "stdout",
     "output_type": "stream",
     "text": [
      "File ./files/loan_form.pdf uploaded to loan_form.pdf.\n"
     ]
    }
   ],
   "source": [
    "# Call the function to upload the file to the bucket\n",
    "upload_blob(TEST_BUCKET, './files/loan_form.pdf', 'loan_form.pdf')"
   ]
  },
  {
   "cell_type": "markdown",
   "metadata": {},
   "source": [
    "Go back to the Google Cloud web console, select your bucket (click on its name) and check if the PDF was uploaded, like the picture below.\n",
    "\n",
    "<img src=\"./images/1_10_storage.png\"\n",
    "     alt=\"Cloud Storage\"\n",
    "     style=\"width:70%\"\n",
    "     />"
   ]
  },
  {
   "cell_type": "markdown",
   "metadata": {},
   "source": [
    "Ok, now let's define a method to process the document offline."
   ]
  },
  {
   "cell_type": "code",
   "execution_count": 32,
   "metadata": {},
   "outputs": [],
   "source": [
    "# Process a document async\n",
    "def async_process_document(\n",
    "    gcs_input_uri: str,\n",
    "    gcs_output_uri: str,\n",
    "    gcs_output_uri_prefix: str\n",
    ") -> str:\n",
    "    # 'mime_type' can be 'application/pdf', 'image/tiff',\n",
    "    # and 'image/gif', or 'application/json'\n",
    "    service = documentai.types.document_processor_service\n",
    "    input_config = service.BatchProcessRequest.BatchInputConfig(\n",
    "        gcs_source=gcs_input_uri, mime_type=MIME_TYPE\n",
    "    )\n",
    "\n",
    "    # Where to write results\n",
    "    destination_uri = f'{gcs_output_uri}/{gcs_output_uri_prefix}/'\n",
    "    output_config = service.BatchProcessRequest.BatchOutputConfig(\n",
    "        gcs_destination=destination_uri\n",
    "    )\n",
    "\n",
    "    # Call Processor to process document\n",
    "    name = f\"projects/{PROJECT_ID}/locations/{DOCAI_LOCATION}/processors/{PROCESSOR_ID}\"\n",
    "    request = service.BatchProcessRequest(\n",
    "        name=name,\n",
    "        input_configs=[input_config],\n",
    "        output_config=output_config,\n",
    "    )\n",
    "    operation = DOCAI_CLIENT.batch_process_documents(request)\n",
    "\n",
    "    return operation"
   ]
  },
  {
   "cell_type": "code",
   "execution_count": 37,
   "metadata": {},
   "outputs": [],
   "source": [
    "# Define the input URI, destination and prefix (folder)\n",
    "gcs_input_uri = f'gs://{TEST_BUCKET}/loan_form.pdf'\n",
    "gcs_output_uri = f'gs://{TEST_BUCKET}'\n",
    "gcs_output_uri_prefix = 'results'\n",
    "destination_uri = f'{gcs_output_uri}/{gcs_output_uri_prefix}/'"
   ]
  },
  {
   "cell_type": "code",
   "execution_count": 34,
   "metadata": {},
   "outputs": [],
   "source": [
    "# Call the operation\n",
    "operation = async_process_document(gcs_input_uri, gcs_output_uri, gcs_output_uri_prefix)"
   ]
  },
  {
   "cell_type": "code",
   "execution_count": 45,
   "metadata": {},
   "outputs": [
    {
     "data": {
      "text/plain": [
       "name: \"projects/411150075841/locations/us/operations/2508786828607454634\"\n",
       "metadata {\n",
       "  type_url: \"type.googleapis.com/google.cloud.documentai.v1beta3.BatchProcessMetadata\"\n",
       "  value: \"\\010\\003\\022$Processed 1 document(s) successfully\\032\\014\\010\\352\\212\\314\\200\\006\\020\\310\\363\\376\\203\\003\\\"\\014\\010\\242\\213\\314\\200\\006\\020\\250\\237\\245\\362\\001*^\\n%gs://cool-ml-demos-test/loan_form.pdf\\0325gs://cool-ml-demos-test/results/2508786828607454634/0\"\n",
       "}\n",
       "done: true\n",
       "response {\n",
       "  type_url: \"type.googleapis.com/google.cloud.documentai.v1beta3.BatchProcessResponse\"\n",
       "}"
      ]
     },
     "execution_count": 45,
     "metadata": {},
     "output_type": "execute_result"
    }
   ],
   "source": [
    "# Get the details of this operation\n",
    "# Important to note the \"name\", which identifies the op\n",
    "# It is possible to retrieve the status of an operation with its name\n",
    "operation.operation"
   ]
  },
  {
   "cell_type": "code",
   "execution_count": 36,
   "metadata": {},
   "outputs": [
    {
     "data": {
      "text/plain": []
     },
     "execution_count": 36,
     "metadata": {},
     "output_type": "execute_result"
    }
   ],
   "source": [
    "# Wait for the processing to conclude (~1 minute)\n",
    "operation.result(timeout=300)"
   ]
  },
  {
   "cell_type": "code",
   "execution_count": 39,
   "metadata": {},
   "outputs": [
    {
     "name": "stdout",
     "output_type": "stream",
     "text": [
      "[<Blob: cool-ml-demos-test, results/2508786828607454634/0/loan_form-0.json, 1611859362210631>]\n"
     ]
    }
   ],
   "source": [
    "# Results are written to GCS. Use a regex to find output files\n",
    "match = re.match(r\"gs://([^/]+)/(.+)\", destination_uri)\n",
    "output_bucket = match.group(1)\n",
    "prefix = match.group(2)\n",
    "\n",
    "bucket = STORAGE_CLIENT.get_bucket(output_bucket)\n",
    "blob_list = list(bucket.list_blobs(prefix=prefix))\n",
    "\n",
    "print(blob_list)"
   ]
  },
  {
   "cell_type": "code",
   "execution_count": 40,
   "metadata": {},
   "outputs": [],
   "source": [
    "def print_offline_results(blob_list: list):       \n",
    "    print(\"Output files:\")\n",
    "    for i, blob in enumerate(blob_list):\n",
    "        # Download the contents of this blob as a bytes object.\n",
    "        if '.json' not in blob.name:\n",
    "            print(f\"skipping non-supported file type {blob.name}\")\n",
    "            break\n",
    "        # Only parses JSON files\n",
    "        blob_as_bytes = blob.download_as_bytes()\n",
    "        document = documentai.types.Document.from_json(blob_as_bytes)\n",
    "        print(f\"Fetched file {i + 1}\")\n",
    "\n",
    "        # Read the text recognition output from the processor\n",
    "        print_doc_result(document)"
   ]
  },
  {
   "cell_type": "code",
   "execution_count": 41,
   "metadata": {},
   "outputs": [
    {
     "name": "stdout",
     "output_type": "stream",
     "text": [
      "Output files:\n",
      "Fetched file 1\n",
      "Extracted key value pair:\n",
      "\tAgreement Number:\n",
      " 0123456789\n",
      "\n",
      "Extracted key value pair:\n",
      "\tAddress:\n",
      " 100 Franklin Street, Mountain View, CA, 94035\n",
      "\n",
      "Extracted key value pair:\n",
      "\tAgreement date:\n",
      " 01/01/2020\n",
      "\n",
      "Extracted key value pair:\n",
      "\tPhone number:  1-800-843-8623\n",
      "\n",
      "Extracted key value pair:\n",
      "\tAddress:\n",
      " 500 Castro Street, Mountain View, CA 94035\n",
      "\n",
      "Extracted key value pair:\n",
      "\tOther\n",
      " \n",
      "Extracted key value pair:\n",
      "\tMarried  ☐\n",
      "\n",
      "Extracted key value pair:\n",
      "\tName:\n",
      " Arjun Patel\n",
      "\n",
      "Extracted key value pair:\n",
      "\tPhone number:  650-987-0934\n",
      "\n",
      "Extracted key value pair:\n",
      "\tper month for\n",
      " 5\n",
      "years.\n",
      "\n",
      "Extracted key value pair:\n",
      "\tSingle\n",
      " \n",
      "Extracted key value pair:\n",
      "\tThe borrower will pay an installment of $\n",
      " 38.67\n",
      "\n",
      "Extracted key value pair:\n",
      "\tThe lender is ready to sanction $  2000 \n",
      "Extracted key value pair:\n",
      "\tas the loan amount at\n",
      " 6.0\n",
      "%\n",
      "Extracted key value pair:\n",
      "\tName:\n",
      " Mortgage company A\n",
      "\n",
      "Extracted key value pair:\n",
      "\tAny late installment will be accepted with $\n",
      " 40\n",
      "as a \n",
      "Extracted key value pair:\n",
      "\tThis loan agreement is valid from  01/01/2020 \n",
      "Extracted key value pair:\n",
      "\tand is ending on  12/31/2020\n",
      "Paragraph text:\n",
      "Loan Agreement Form\n",
      "Agreement Number:\n",
      "0123456789\n",
      "Agreement date:\n",
      "01/01/2020\n",
      "This loan agreement is commenced between the parties:\n",
      "Mortgage company contact details:\n",
      "Name:\n",
      "Mortgage company A\n",
      "Address:\n",
      "100 Franklin Street, Mountain View, CA, 94035\n",
      "Phone number: 1-800-843-8623\n",
      "(hereinafter referred to as the lender)\n",
      "Individual details:\n",
      "Name:\n",
      "Arjun Patel\n",
      "Marital status:\n",
      "Single\n",
      "Married ☐\n",
      "Other\n",
      "Address:\n",
      "500 Castro Street, Mountain View, CA 94035\n",
      "Phone number: 650-987-0934\n",
      "(hereinafter referred to as the borrower)\n",
      "[Fill in all details as per instructions]\n",
      "6.0\n",
      "%.\n",
      "The lender is ready to sanction $ 2000 as the loan amount at\n",
      "[Total loan amount along with the agreed percentage rate].\n",
      "This loan agreement is valid from 01/01/2020 and is ending on 12/31/2020.\n",
      "Terms & agreements:\n",
      "38.67\n",
      "per month for\n",
      "5\n",
      "years.\n",
      "The borrower will pay an installment of $\n",
      "[Amount & tenure of loan]\n",
      "Any late installment will be accepted with $\n",
      "40\n",
      "as a fine.\n",
      "\n"
     ]
    }
   ],
   "source": [
    "print_offline_results(blob_list)"
   ]
  },
  {
   "cell_type": "markdown",
   "metadata": {},
   "source": [
    "## IMPORTANT: Execute the next two cells once"
   ]
  },
  {
   "cell_type": "code",
   "execution_count": null,
   "metadata": {},
   "outputs": [],
   "source": [
    "%%capture output --no-stderr\n",
    "print(f'PROCESSOR_ID = \\'{PROCESSOR_ID}\\'')"
   ]
  },
  {
   "cell_type": "code",
   "execution_count": null,
   "metadata": {},
   "outputs": [],
   "source": [
    "with open('./docai_module/config.py', 'a') as f:\n",
    "    f.write(output.stdout)"
   ]
  },
  {
   "cell_type": "markdown",
   "metadata": {},
   "source": [
    "# Challange"
   ]
  },
  {
   "cell_type": "markdown",
   "metadata": {},
   "source": [
    "In the following bucket there is a PDF file with a table in it.\n",
    "Can you tell what is the header of this table? (use the Document AI Form Parser)\n",
    "\n",
    "> gs://cloud-samples-data/documentai/invoice.pdf"
   ]
  },
  {
   "cell_type": "code",
   "execution_count": null,
   "metadata": {},
   "outputs": [],
   "source": [
    "# Start developing here\n"
   ]
  }
 ],
 "metadata": {
  "environment": {
   "name": "tf2-gpu.2-4.mnightly-2021-01-20-debian-10-test",
   "type": "gcloud",
   "uri": "gcr.io/deeplearning-platform-release/tf2-gpu.2-4:mnightly-2021-01-20-debian-10-test"
  },
  "kernelspec": {
   "display_name": "ml-demos3.8",
   "language": "python",
   "name": "ml-demos3.8"
  },
  "language_info": {
   "codemirror_mode": {
    "name": "ipython",
    "version": 3
   },
   "file_extension": ".py",
   "mimetype": "text/x-python",
   "name": "python",
   "nbconvert_exporter": "python",
   "pygments_lexer": "ipython3",
   "version": "3.8.6"
  }
 },
 "nbformat": 4,
 "nbformat_minor": 4
}
