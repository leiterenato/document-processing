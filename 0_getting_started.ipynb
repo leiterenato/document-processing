{
 "cells": [
  {
   "cell_type": "markdown",
   "id": "geological-settlement",
   "metadata": {},
   "source": [
    "# Getting Started\n",
    "\n",
    "Before we proceed with the labs we need to make sure some services are activated in the Google Cloud, modules are installed and global variables are set.  \n",
    "\n",
    "These variables, modules and services will support three diffent architectures we will build along the way. More details will be presented in the labs.\n",
    "\n",
    "### Architeture 1 - API Centric\n",
    "<img src=\"./images/4_arch_front.png\"\n",
    "     style=\"width:70%\"\n",
    "     />\n",
    "\n",
    "### Architeture 2 - Event Driven\n",
    "<img src=\"./images/5_arch_event.png\"\n",
    "     style=\"width:70%\"\n",
    "     />\n",
    "\n",
    "### Architeture 3 - Data Visualization\n",
    "<img src=\"./images/6_arch_dataviz.png\"\n",
    "     style=\"width:70%\"\n",
    "     />\n",
    "\n"
   ]
  },
  {
   "cell_type": "markdown",
   "id": "intense-december",
   "metadata": {},
   "source": [
    "## Install required packages\n",
    "\n",
    "The following python packages are necessary to run the labs. Let's make sure they are installed."
   ]
  },
  {
   "cell_type": "code",
   "execution_count": null,
   "id": "professional-frank",
   "metadata": {},
   "outputs": [],
   "source": [
    "%pip install -U google-cloud-core\n",
    "%pip install -U google-cloud-resource-manager\n",
    "%pip install -U google-cloud-documentai\n",
    "%pip install -U google-cloud-storage\n",
    "%pip install -U google-cloud-firestore\n",
    "%pip install -U google-cloud-dlp\n",
    "%pip install -U google-cloud-language"
   ]
  },
  {
   "cell_type": "markdown",
   "id": "sweet-palestinian",
   "metadata": {},
   "source": [
    "## Activate the APIs\n",
    "\n",
    "We need to activate all the necessary APIs."
   ]
  },
  {
   "cell_type": "code",
   "execution_count": 1,
   "id": "grateful-breed",
   "metadata": {},
   "outputs": [],
   "source": [
    "# This operation may take a few seconds\n",
    "!gcloud services enable documentai.googleapis.com storage.googleapis.com automl.googleapis.com bigquery.googleapis.com\n",
    "!gcloud services enable cloudapis.googleapis.com cloudfunctions.googleapis.com cloudresourcemanager.googleapis.com\n",
    "!gcloud services enable cloudscheduler.googleapis.com containerregistry.googleapis.com dataflow.googleapis.com dlp.googleapis.com\n",
    "!gcloud services enable eventarc.googleapis.com firestore.googleapis.com language.googleapis.com run.googleapis.com"
   ]
  },
  {
   "cell_type": "markdown",
   "id": "motivated-dairy",
   "metadata": {},
   "source": [
    "## Get project ID using resource manager API\n",
    "\n",
    "Let's use the resource manager API to retrieve the project ID."
   ]
  },
  {
   "cell_type": "code",
   "execution_count": 50,
   "id": "intellectual-occasion",
   "metadata": {},
   "outputs": [],
   "source": [
    "# Resource manager to get project_id\n",
    "from google.cloud import resource_manager"
   ]
  },
  {
   "cell_type": "code",
   "execution_count": 51,
   "id": "loving-minnesota",
   "metadata": {},
   "outputs": [],
   "source": [
    "# Set the name prefix of the project\n",
    "project_name_prefix = 'cool-ml-'"
   ]
  },
  {
   "cell_type": "code",
   "execution_count": 52,
   "id": "bibliographic-stamp",
   "metadata": {},
   "outputs": [],
   "source": [
    "# Get project_id using Resource Manager API\n",
    "res_client = resource_manager.Client()\n",
    "\n",
    "project_id = ''\n",
    "project_filter = {'name':project_name_prefix + '*'}\n",
    "\n",
    "for project in res_client.list_projects(filter_params=project_filter):\n",
    "    PROJECT_ID = project.project_id"
   ]
  },
  {
   "cell_type": "code",
   "execution_count": 53,
   "id": "removable-armor",
   "metadata": {},
   "outputs": [
    {
     "name": "stdout",
     "output_type": "stream",
     "text": [
      "The ID of your project is: cool-ml-demos\n"
     ]
    }
   ],
   "source": [
    "# Make sure your project starts with 'qwiklabs'\n",
    "print(f'The ID of your project is: {PROJECT_ID}')"
   ]
  },
  {
   "cell_type": "markdown",
   "id": "italic-hardware",
   "metadata": {},
   "source": [
    "## Create the local service account key\n",
    "\n",
    "This key is necessary for some API calls, like generating a signed URL for Google Storage."
   ]
  },
  {
   "cell_type": "code",
   "execution_count": 55,
   "id": "welsh-gauge",
   "metadata": {},
   "outputs": [],
   "source": [
    "SERVICE_ACCOUNT_ID = 'sa-geral'\n",
    "FULL_SERVICE_ACCOUNT_ID = f'sa-geral@{PROJECT_ID}.iam.gserviceaccount.com'\n",
    "MEMBER = f'serviceAccount:{FULL_SERVICE_ACCOUNT_ID}'\n",
    "ROLE = 'roles/editor'"
   ]
  },
  {
   "cell_type": "code",
   "execution_count": null,
   "id": "selected-recognition",
   "metadata": {},
   "outputs": [],
   "source": [
    "# Create a Service Account without any roles\n",
    "!gcloud iam service-accounts create $SERVICE_ACCOUNT_ID \\\n",
    "    --description=\"Interact with GCP Services\" \\\n",
    "    --display-name=\"SA Demo\""
   ]
  },
  {
   "cell_type": "code",
   "execution_count": null,
   "id": "broke-munich",
   "metadata": {},
   "outputs": [],
   "source": [
    "# Assign a role for this account\n",
    "!gcloud projects add-iam-policy-binding $PROJECT_ID \\\n",
    "    --member=$MEMBER \\\n",
    "    --role=$ROLE"
   ]
  },
  {
   "cell_type": "code",
   "execution_count": 42,
   "id": "ethical-fifty",
   "metadata": {},
   "outputs": [
    {
     "name": "stdout",
     "output_type": "stream",
     "text": [
      "created key [56079b9ee7e93fca75691d564ffea7ca40641db9] of type [json] as [/home/jupyter/key.json] for [sa-geral@cool-ml-demos.iam.gserviceaccount.com]\n"
     ]
    }
   ],
   "source": [
    "# Download the key for a local directory\n",
    "!gcloud iam service-accounts keys create ~/key.json \\\n",
    "  --iam-account $FULL_SERVICE_ACCOUNT_ID"
   ]
  },
  {
   "cell_type": "markdown",
   "id": "virgin-layout",
   "metadata": {},
   "source": [
    "## Define REGION_NAME\n",
    "\n",
    "This variable will be used by some services."
   ]
  },
  {
   "cell_type": "code",
   "execution_count": 79,
   "id": "private-costs",
   "metadata": {},
   "outputs": [],
   "source": [
    "REGION_NAME = 'us-east1'"
   ]
  },
  {
   "cell_type": "markdown",
   "id": "coupled-family",
   "metadata": {},
   "source": [
    "## Google Cloud Storage\n",
    "\n",
    "We need to create 4 buckets to build our architecture. As you can see, these buckets are commom for all architectures we will develop.\n",
    "\n",
    "<img src=\"./images/4_1_arch_storage.png\"\n",
    "     style=\"width:70%\"\n",
    "     />\n",
    "\n",
    " - **Original Document**: Store the original file uploaded by the user\n",
    " - **Raw Results**: Results from the Document AI processing\n",
    " - **Anonymized Documents**: Results from the DLP processing\n",
    " - **Test** (not shown in the diagram): Test the Document AI and DLP API\n",
    " \n",
    "We will use the gsutil utility to create the buckets. The web console could be used as well.\n",
    "\n",
    "These buckets will be used to store the original files and results of DocumentAI and DLP."
   ]
  },
  {
   "cell_type": "code",
   "execution_count": 80,
   "id": "grateful-jesus",
   "metadata": {},
   "outputs": [],
   "source": [
    "# First define the names of the buckets\n",
    "TEST_BUCKET = f'{PROJECT_ID}-test'\n",
    "ORIGINAL_BUCKET = f'{PROJECT_ID}-original'\n",
    "DOCAI_BUCKET = f'{PROJECT_ID}-docai'\n",
    "DLP_BUCKET = f'{PROJECT_ID}-dlp'"
   ]
  },
  {
   "cell_type": "code",
   "execution_count": null,
   "id": "african-separation",
   "metadata": {},
   "outputs": [],
   "source": [
    "# Create a bucket in GCS to store the original documents\n",
    "!gsutil mb -p $PROJECT_ID -c regional -l $REGION_NAME gs://$ORIGINAL_BUCKET/\n",
    "\n",
    "# Create a bucket in GCS to store the document ai results\n",
    "!gsutil mb -p $PROJECT_ID -c regional -l $REGION_NAME gs://$DOCAI_BUCKET/\n",
    "\n",
    "# Create a bucket in GCS to store the dlp results\n",
    "!gsutil mb -p $PROJECT_ID -c regional -l $REGION_NAME gs://$DLP_BUCKET/\n",
    "\n",
    "# Create a bucket in GCS for testing\n",
    "!gsutil mb -p $PROJECT_ID -c regional -l $REGION_NAME gs://$TEST_BUCKET/"
   ]
  },
  {
   "cell_type": "markdown",
   "id": "practical-interim",
   "metadata": {},
   "source": [
    "Before we continue, navigate to Google Cloud Web console and check if the buckets were created:\n",
    "\n",
    "<img src=\"./images/1_9_storage.png\"\n",
    "     style=\"width:30%\"\n",
    "     />\n",
    "     \n",
    "If you have any problem, you can try to re-execute the previous cell or create the buckets using the Web UI."
   ]
  },
  {
   "cell_type": "markdown",
   "id": "chief-fusion",
   "metadata": {},
   "source": [
    "## IMPORTANT: Execute the next two cells"
   ]
  },
  {
   "cell_type": "code",
   "execution_count": 73,
   "id": "dated-riding",
   "metadata": {},
   "outputs": [],
   "source": [
    "%%capture output --no-stderr\n",
    "print(f'SERVICE_ACCOUNT_ID = \\'{SERVICE_ACCOUNT_ID}\\'')\n",
    "print(f'FULL_SERVICE_ACCOUNT_ID = \\'{FULL_SERVICE_ACCOUNT_ID}\\'')\n",
    "print(f'PROJECT_ID = \\'{PROJECT_ID}\\'')\n",
    "print(f'TEST_BUCKET = \\'{TEST_BUCKET}\\'')\n",
    "print(f'ORIGINAL_BUCKET = \\'{ORIGINAL_BUCKET}\\'')\n",
    "print(f'DOCAI_BUCKET = \\'{DOCAI_BUCKET}\\'')\n",
    "print(f'DLP_BUCKET = \\'{DLP_BUCKET}\\'')"
   ]
  },
  {
   "cell_type": "code",
   "execution_count": 74,
   "id": "sized-elevation",
   "metadata": {},
   "outputs": [],
   "source": [
    "with open('./docai_module/config.py', 'a') as f:\n",
    "    f.write(output.stdout)"
   ]
  }
 ],
 "metadata": {
  "environment": {
   "name": "tf2-gpu.2-4.mnightly-2021-01-20-debian-10-test",
   "type": "gcloud",
   "uri": "gcr.io/deeplearning-platform-release/tf2-gpu.2-4:mnightly-2021-01-20-debian-10-test"
  },
  "kernelspec": {
   "display_name": "ml-demos3.8",
   "language": "python",
   "name": "ml-demos3.8"
  },
  "language_info": {
   "codemirror_mode": {
    "name": "ipython",
    "version": 3
   },
   "file_extension": ".py",
   "mimetype": "text/x-python",
   "name": "python",
   "nbconvert_exporter": "python",
   "pygments_lexer": "ipython3",
   "version": "3.8.6"
  }
 },
 "nbformat": 4,
 "nbformat_minor": 5
}
